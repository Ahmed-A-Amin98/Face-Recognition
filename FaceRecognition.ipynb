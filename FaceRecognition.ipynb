{
  "nbformat": 4,
  "nbformat_minor": 0,
  "metadata": {
    "colab": {
      "name": "FaceRecognition.ipynb",
      "provenance": [],
      "collapsed_sections": []
    },
    "kernelspec": {
      "display_name": "Python 3",
      "name": "python3"
    }
  },
  "cells": [
    {
      "cell_type": "markdown",
      "metadata": {
        "id": "KhoFkKuH88s9"
      },
      "source": [
        "# ***Pattern Recognition Assignment 1***\n",
        "\n",
        "---\n",
        "\n"
      ]
    },
    {
      "cell_type": "markdown",
      "metadata": {
        "id": "3fO6ftKvBcnY"
      },
      "source": [
        "### ***Ahmed Samy Ahmed - 4561***\n",
        "### ***Omar Reda Abo El-yazed - 4767***\n",
        "### ***Aboubakr Hussien - 4553***\n",
        "### ***Ahmed Abdelhamed - 4566***\n",
        "\n",
        "\n",
        "---\n",
        "\n"
      ]
    },
    {
      "cell_type": "markdown",
      "metadata": {
        "id": "IaXROmeJr9A8"
      },
      "source": [
        "## **Imports & Drive Mount**\n",
        "\n",
        "---\n",
        "\n"
      ]
    },
    {
      "cell_type": "code",
      "metadata": {
        "colab": {
          "base_uri": "https://localhost:8080/"
        },
        "id": "wW_GR2nqtT6F",
        "outputId": "dfd7bd45-6f83-44f2-bf8b-283f463a9ad5"
      },
      "source": [
        "#===============#\n",
        "#=== Imports ===#\n",
        "#===============#\n",
        "from google.colab import drive\n",
        "import numpy as np\n",
        "import matplotlib.image as mpimg \n",
        "import matplotlib.pyplot as plt \n",
        "from numpy import linalg\n",
        "\n",
        "Database = []                                                                   # Images Database\n",
        "\n",
        "drive.mount('/content/drive', force_remount=True)\n",
        "\n",
        "for character in range (1,41):                                                  # Persons\n",
        "  for image in range (1,11):                                                    # 10 images per person\n",
        "    Path = '/content/drive/My Drive/archive/s'+ str(character) +'/'             # Access each folder\n",
        "    Img = mpimg.imread(Path + str(image) + '.pgm')                              # Access each image \n",
        "    Vector = np.array(Img).reshape(10304)                                       # Convert Every Image Into Vector of 10304 (92x112)\n",
        "    Database.append(Vector)                                                     # Addd Vector To Database\n",
        "\n",
        "print(\"Drive Mount ... Done\")"
      ],
      "execution_count": 2,
      "outputs": [
        {
          "output_type": "stream",
          "text": [
            "Mounted at /content/drive\n",
            "Drive Mount ... Done\n"
          ],
          "name": "stdout"
        }
      ]
    },
    {
      "cell_type": "markdown",
      "metadata": {
        "id": "t56suLNhroUa"
      },
      "source": [
        "## **Labels & Splitting**\n",
        "\n",
        "---\n",
        "\n"
      ]
    },
    {
      "cell_type": "code",
      "metadata": {
        "id": "3KqDb3nrFxh9",
        "colab": {
          "base_uri": "https://localhost:8080/"
        },
        "outputId": "ab22ccbc-b7ae-4a90-e486-a2208b5668ea"
      },
      "source": [
        "Database = np.array(Database)\n",
        "\n",
        "preYLabels=np.arange(1,41)                                                      #Matrix form 1 to 40 for each person\n",
        "Y=np.repeat(preYLabels,10)                                                      #Repeat each element in array \n",
        "Y=np.reshape(Y,(400,1))\n",
        "\n",
        "trainX=Database[::2]\n",
        "testX=Database[1::2]\n",
        "trainY=Y[::2,:]\n",
        "testY=Y[1::2,:]\n",
        "\n",
        "\n",
        "print(\"Labels & Splitting ... Done\")"
      ],
      "execution_count": 3,
      "outputs": [
        {
          "output_type": "stream",
          "text": [
            "Labels & Splitting ... Done\n"
          ],
          "name": "stdout"
        }
      ]
    },
    {
      "cell_type": "markdown",
      "metadata": {
        "id": "P6Y_1IQqsDmR"
      },
      "source": [
        "## **PCA Calculation**\n",
        "\n",
        "---\n",
        "\n"
      ]
    },
    {
      "cell_type": "code",
      "metadata": {
        "id": "AMxToN2Pj9aJ",
        "colab": {
          "base_uri": "https://localhost:8080/"
        },
        "outputId": "be6a6c5d-b40a-4f57-df37-0df18be6ec8a"
      },
      "source": [
        "def EigenValuesAndVectors (trainX) :\n",
        "  Mean = np.mean(trainX, axis=0)                                                # Calculate Mean\n",
        "  Centered_Data = trainX - Mean                                                 # Calculate Centered Data\n",
        "  Covariance = (np.transpose(Centered_Data).dot(Centered_Data))/len(trainX)     # Calculate Covariance\n",
        "  EigenValues, EigenVectors = linalg.eigh(Covariance)                           # Calculate Eigenvalues and Eigenvectors\n",
        "\n",
        "  # Prints For Check\n",
        "  print(\"==============\")\n",
        "  print(Mean)\n",
        "  print(Centered_Data)\n",
        "  print(Covariance)\n",
        "  print(\"==============\")\n",
        "\n",
        "  Temp = EigenValues.argsort()[::-1]                                            # Re-arrange Eigenvalues Indices Descendingly \n",
        "  EigenValues = EigenValues[Temp]                                               # Overwrite New Eigenvalues With The New Indices\n",
        "  EigenVectors = EigenVectors[:,Temp]                                           # Overwrite Eigenvectors With The New Corresponding Eigenvalues\n",
        "\n",
        "  # Prints For Check\n",
        "  print(\"==============\")\n",
        "  print(Temp)\n",
        "  print(EigenValues)\n",
        "  print(EigenVectors)\n",
        "  print(\"==============\")\n",
        "\n",
        "  return EigenValues,EigenVectors\n",
        "\n",
        "EigenValues,EigenVectors = EigenValuesAndVectors(trainX)\n",
        "\n",
        "print(\"Eigenvalues & Eigenvectors Calculations ... Done\")\n"
      ],
      "execution_count": 4,
      "outputs": [
        {
          "output_type": "stream",
          "text": [
            "==============\n",
            "[86.115 86.265 86.685 ... 76.5   77.395 77.085]\n",
            "[[-38.115 -37.265 -41.685 ... -29.5   -31.395 -31.085]\n",
            " [-47.115 -42.265 -33.685 ... -47.5   -51.395 -48.085]\n",
            " [-22.115 -10.265  -6.685 ... -41.5   -40.395 -38.085]\n",
            " ...\n",
            " [ 41.885  38.735  38.315 ...   8.5    12.605   6.915]\n",
            " [ 42.885  40.735  46.315 ...  16.5    15.605  15.915]\n",
            " [ 32.885  33.735  33.315 ...  12.5    16.605   7.915]]\n",
            "[[1241.511775 1237.489525 1220.456225 ...  -69.8075    -99.755425\n",
            "   -43.884775]\n",
            " [1237.489525 1250.244775 1227.058475 ...  -81.5325   -110.499675\n",
            "   -55.222525]\n",
            " [1220.456225 1227.058475 1222.145775 ...  -79.0825   -114.060575\n",
            "   -67.653225]\n",
            " ...\n",
            " [ -69.8075    -81.5325    -79.0825   ... 1894.       1865.0575\n",
            "  1682.5425  ]\n",
            " [ -99.755425 -110.499675 -114.060575 ... 1865.0575   1970.238975\n",
            "  1809.101425]\n",
            " [ -43.884775  -55.222525  -67.653225 ... 1682.5425   1809.101425\n",
            "  1888.737775]]\n",
            "==============\n",
            "==============\n",
            "[10303 10302 10301 ...     2     1     0]\n",
            "[ 2.89336806e+06  2.01725036e+06  1.14824189e+06 ... -8.99621013e-10\n",
            " -1.46123935e-09 -1.91874791e-09]\n",
            "[[-0.00281623  0.01361156  0.02055771 ...  0.          0.\n",
            "   0.        ]\n",
            " [-0.00278538  0.01372372  0.02051844 ...  0.07541588 -0.28661845\n",
            "   0.41615721]\n",
            " [-0.00255135  0.01375542  0.02030213 ... -0.15739863  0.03278611\n",
            "   0.24059032]\n",
            " ...\n",
            " [-0.0054346  -0.01151936  0.01558413 ... -0.00780012 -0.00440537\n",
            "   0.01168721]\n",
            " [-0.00555782 -0.01183526  0.01481205 ... -0.01515632 -0.01808831\n",
            "  -0.0188561 ]\n",
            " [-0.00628804 -0.01087738  0.0152495  ... -0.00757231  0.02821457\n",
            "   0.01302149]]\n",
            "==============\n",
            "Eigenvalues & Eigenvectors Calculations ... Done\n"
          ],
          "name": "stdout"
        }
      ]
    },
    {
      "cell_type": "markdown",
      "metadata": {
        "id": "a18dTH1CV4DI"
      },
      "source": [
        "## **Eigenvalues Count & Projection Matrix**\n",
        "\n",
        "---\n",
        "\n"
      ]
    },
    {
      "cell_type": "code",
      "metadata": {
        "id": "sv3-oSU96zR1",
        "colab": {
          "base_uri": "https://localhost:8080/"
        },
        "outputId": "e361c0f0-2a4a-416f-c9c7-3ff25ca88ef5"
      },
      "source": [
        "# Count Needed Eigenvalues\n",
        "def EigenValues_Counter(EigenValues,Alpha):  \n",
        "  Sum_EigenValues = sum(EigenValues)                                            # Calculate Total Sum\n",
        "  Initial_Sum = 0.0\n",
        "  Number_Of_EigenValues = 0\n",
        "  \n",
        "  # Checking For Condition (Cummlative Sum Divided By Total Sum is Less Than Alpha Value)\n",
        "  while Initial_Sum/Sum_EigenValues < Alpha:                                                           \n",
        "    Initial_Sum = Initial_Sum + EigenValues[Number_Of_EigenValues]              # Calculate Cummlative Sum\n",
        "    Number_Of_EigenValues = Number_Of_EigenValues + 1\n",
        "\n",
        "  return Number_Of_EigenValues\n",
        "\n",
        "print(\"Count Eigenvalues ... Done\")\n",
        "\n",
        "# Project Train Data & Test Data on Same Projection Matrix\n",
        "def Projection(Projection_Matrix, Train_Data, Test_Data):\n",
        "  Projected_Train = np.dot(Train_Data, Projection_Matrix.transpose())           # Project Train on Projection Matrix\n",
        "  Projected_Test = np.dot(Test_Data, Projection_Matrix.transpose())             # Project Test on Projection Matrix\n",
        "  return Projected_Train, Projected_Test\n",
        "\n",
        "print(\"Projection Matrix ... Done\")\n"
      ],
      "execution_count": 5,
      "outputs": [
        {
          "output_type": "stream",
          "text": [
            "Count Eigenvalues ... Done\n",
            "Projection Matrix ... Done\n"
          ],
          "name": "stdout"
        }
      ]
    },
    {
      "cell_type": "markdown",
      "metadata": {
        "id": "TU9Xfi--6_ec"
      },
      "source": [
        "## **Classifier Tuning**\n",
        "\n",
        "---\n",
        "\n"
      ]
    },
    {
      "cell_type": "code",
      "metadata": {
        "id": "JsycZAcl_QEn",
        "colab": {
          "base_uri": "https://localhost:8080/"
        },
        "outputId": "31094c80-1f75-45b8-d2b1-c09e8a7e49d2"
      },
      "source": [
        "Alpha = [0.8,0.85,0.9,0.95]                                                       # Alpha Values\n",
        "\n",
        "def listingProjectedArrays(alpha,EigenValues,EigenVectors,trainX,testX) :\n",
        "  Projected_Trains=[]\n",
        "  Projected_Tests=[]\n",
        "\n",
        "  for i in alpha :\n",
        "    print(i)\n",
        "    EigCounter = EigenValues_Counter(EigenValues, i)                            # Count Eigenvalues\n",
        "    # Project Train & Test on Projection Matrix\n",
        "    Projected_Train, Projected_Test = Projection(EigenVectors.transpose()[0:EigCounter], trainX, testX)\n",
        "    Projected_Trains.append(Projected_Train)                                    # Add Projected Train To Train List\n",
        "    Projected_Tests.append(Projected_Test)                                      # Add Projected Test To Train List\n",
        "\n",
        "  return Projected_Trains, Projected_Tests \n",
        "\n",
        "# Call Listing Function\n",
        "Projected_Trains,Projected_Tests = listingProjectedArrays(Alpha, EigenValues, EigenVectors, trainX, testX) \n",
        "\n",
        "print(\"Calculate Projection Matrix Per Each Alpha ... Done\")  \n",
        "print(\"Project Train & Test Lists on Projection Matrix Per Each Alpha ... Done\")  \n"
      ],
      "execution_count": 7,
      "outputs": [
        {
          "output_type": "stream",
          "text": [
            "0.8\n",
            "0.85\n",
            "0.9\n",
            "0.95\n",
            "Calculate Projection Matrix Per Each Alpha ... Done\n",
            "Project Train & Test Lists on Projection Matrix Per Each Alpha ... Done\n"
          ],
          "name": "stdout"
        }
      ]
    },
    {
      "cell_type": "markdown",
      "metadata": {
        "id": "KDMFwe_R_3pU"
      },
      "source": [
        "# **KNN Classfication**"
      ]
    },
    {
      "cell_type": "code",
      "metadata": {
        "id": "k31AUtAWVwj3",
        "colab": {
          "base_uri": "https://localhost:8080/"
        },
        "outputId": "e3768a26-351a-467c-edfa-e4c74f6a3a21"
      },
      "source": [
        "#===============#\n",
        "#=== Imports ===#\n",
        "#===============#\n",
        "from sklearn.neighbors import KNeighborsClassifier\n",
        "from sklearn.preprocessing import StandardScaler\n",
        "from sklearn.metrics import accuracy_score\n",
        "\n",
        "K_Neighbours = [1,3,5,7]                                                        # Number of Neighbours\n",
        "\n",
        "# K_Neighbours Function\n",
        "def k_Neigh(K, Train, Test, TestLabel, Alpha, Train2):\n",
        "   model = KNeighborsClassifier(n_neighbors= K)                                 # Create Classifer Model\n",
        "   FitModel = model.fit(Train, Train2)                                          \n",
        "   Predictions = model.predict(Test)                                                   \n",
        "   Accuracy = accuracy_score(TestLabel, Predictions)                            # Calculate Accuracy\n",
        "   print(\"For Alpha = \", Alpha,\"\\t With \", K, \" Neighbours\", \"\\t The Accuracy Will be = \", Accuracy)   \n",
        "   return Accuracy\n",
        "\n",
        "print(\"K-Neighbours Function ... Done\")\n"
      ],
      "execution_count": 8,
      "outputs": [
        {
          "output_type": "stream",
          "text": [
            "K-Neighbours Function ... Done\n"
          ],
          "name": "stdout"
        }
      ]
    },
    {
      "cell_type": "markdown",
      "metadata": {
        "id": "r6v1ek7zB5MG"
      },
      "source": [
        "\n",
        "\n",
        "\n",
        "\n",
        "## **Plotting & Results**\n",
        "\n",
        "---\n",
        "\n"
      ]
    },
    {
      "cell_type": "code",
      "metadata": {
        "id": "bkB8GaJS7WjS",
        "colab": {
          "base_uri": "https://localhost:8080/",
          "height": 548
        },
        "outputId": "d9a4d33f-7c57-42b1-fc37-0a59520f9cf5"
      },
      "source": [
        "New_Train = trainY.flatten()                                                    # Change Labels Train List To 1D \n",
        "New_Test = testY.flatten()                                                      # Change Labels Test List To 1D   \n",
        "\n",
        "def Results ():\n",
        "  # Get Accuracy For Each Alpha per Each Neighbour 4 * 4 \n",
        "  for i in range(4):\n",
        "    Array = []                                                                  # Accuracy List                     \n",
        "    Accuracy_Value = k_Neigh(K_Neighbours[i], Projected_Trains[0], Projected_Tests[0], New_Test, 0.8,New_Train)\n",
        "    Array.append(Accuracy_Value)\n",
        "    Accuracy_Value = k_Neigh(K_Neighbours[i], Projected_Trains[1], Projected_Tests[1], New_Test, 0.85,New_Train)\n",
        "    Array.append(Accuracy_Value)\n",
        "    Accuracy_Value = k_Neigh(K_Neighbours[i], Projected_Trains[2], Projected_Tests[2] , New_Test, 0.9,New_Train)\n",
        "    Array.append(Accuracy_Value)\n",
        "    Accuracy_Value = k_Neigh(K_Neighbours[i], Projected_Trains[3], Projected_Tests[3], New_Test, 0.95,New_Train)\n",
        "    Array.append(Accuracy_Value)\n",
        "    plt.plot([0.8,0.85,0.9,0.95],Array)                                         # Plot Alpha Values To Accuracy Values\n",
        "  plt.xlabel(\"Alpha\")\n",
        "  plt.ylabel(\"Accuracy\")\n",
        "  plt.show()\n",
        "\n",
        "Results()"
      ],
      "execution_count": 9,
      "outputs": [
        {
          "output_type": "stream",
          "text": [
            "For Alpha =  0.8 \t With  1  Neighbours \t The Accuracy Will be =  0.95\n",
            "For Alpha =  0.85 \t With  1  Neighbours \t The Accuracy Will be =  0.95\n",
            "For Alpha =  0.9 \t With  1  Neighbours \t The Accuracy Will be =  0.94\n",
            "For Alpha =  0.95 \t With  1  Neighbours \t The Accuracy Will be =  0.94\n",
            "For Alpha =  0.8 \t With  3  Neighbours \t The Accuracy Will be =  0.895\n",
            "For Alpha =  0.85 \t With  3  Neighbours \t The Accuracy Will be =  0.895\n",
            "For Alpha =  0.9 \t With  3  Neighbours \t The Accuracy Will be =  0.89\n",
            "For Alpha =  0.95 \t With  3  Neighbours \t The Accuracy Will be =  0.895\n",
            "For Alpha =  0.8 \t With  5  Neighbours \t The Accuracy Will be =  0.85\n",
            "For Alpha =  0.85 \t With  5  Neighbours \t The Accuracy Will be =  0.845\n",
            "For Alpha =  0.9 \t With  5  Neighbours \t The Accuracy Will be =  0.835\n",
            "For Alpha =  0.95 \t With  5  Neighbours \t The Accuracy Will be =  0.845\n",
            "For Alpha =  0.8 \t With  7  Neighbours \t The Accuracy Will be =  0.805\n",
            "For Alpha =  0.85 \t With  7  Neighbours \t The Accuracy Will be =  0.775\n",
            "For Alpha =  0.9 \t With  7  Neighbours \t The Accuracy Will be =  0.77\n",
            "For Alpha =  0.95 \t With  7  Neighbours \t The Accuracy Will be =  0.74\n"
          ],
          "name": "stdout"
        },
        {
          "output_type": "display_data",
          "data": {
            "image/png": "[encoded data removed]",
            "text/plain": [
              "<Figure size 432x288 with 1 Axes>"
            ]
          },
          "metadata": {
            "tags": [],
            "needs_background": "light"
          }
        }
      ]
    },
    {
      "cell_type": "markdown",
      "metadata": {
        "id": "YZjzhSScKVl_"
      },
      "source": [
        "# **Bonus** "
      ]
    },
    {
      "cell_type": "markdown",
      "metadata": {
        "id": "OGKugk-jAFaW"
      },
      "source": [
        "## **Spilt Data With Shuffling**"
      ]
    },
    {
      "cell_type": "code",
      "metadata": {
        "id": "tcJY2r9lK4tM",
        "colab": {
          "base_uri": "https://localhost:8080/"
        },
        "outputId": "b78ad54a-de22-457b-e2ad-031aa69b8d5d"
      },
      "source": [
        "from sklearn.model_selection import train_test_split \n",
        "\n",
        "X_train, X_test, y_train, y_test = train_test_split(Database, Y, test_size=0.3)\n",
        "X_train, X_test, y_train, y_test = np.array(X_train), np.array(X_test), np.array(y_train), np.array(y_test)\n",
        "\n",
        "print(X_train.shape, X_test.shape)\n",
        "print(y_train.shape, y_test.shape )"
      ],
      "execution_count": 10,
      "outputs": [
        {
          "output_type": "stream",
          "text": [
            "(280, 10304) (120, 10304)\n",
            "(280, 1) (120, 1)\n"
          ],
          "name": "stdout"
        }
      ]
    },
    {
      "cell_type": "markdown",
      "metadata": {
        "id": "wnnmTIeDT7Td"
      },
      "source": [
        "## **PCA**"
      ]
    },
    {
      "cell_type": "code",
      "metadata": {
        "id": "YPj-Fi4OT_C9",
        "colab": {
          "base_uri": "https://localhost:8080/"
        },
        "outputId": "81cc2e91-f87e-4092-f660-015fceb8db3c"
      },
      "source": [
        "EigenValues, EigenVectors = EigenValuesAndVectors(X_train)   "
      ],
      "execution_count": 11,
      "outputs": [
        {
          "output_type": "stream",
          "text": [
            "==============\n",
            "[87.275      87.10357143 87.56071429 ... 74.36071429 74.09285714\n",
            " 75.12142857]\n",
            "[[-63.275      -61.10357143 -65.56071429 ... 109.63928571 105.90714286\n",
            "  102.87857143]\n",
            " [ 37.725       36.89642857  36.43928571 ... -38.36071429 -39.09285714\n",
            "  -41.12142857]\n",
            " [-35.275      -40.10357143 -36.56071429 ... -44.36071429 -40.09285714\n",
            "  -33.12142857]\n",
            " ...\n",
            " [-35.275      -45.10357143 -45.56071429 ... -37.36071429 -55.09285714\n",
            "  -51.12142857]\n",
            " [ 20.725       24.89642857  22.43928571 ... -52.36071429 -44.09285714\n",
            "  -55.12142857]\n",
            " [ 34.725       31.89642857  35.43928571 ...   5.63928571  11.90714286\n",
            "    6.87857143]]\n",
            "[[1261.76366071 1251.97508929 1247.78151786 ...  -93.19919643\n",
            "   -69.74696429  -46.36910714]\n",
            " [1251.97508929 1259.5571301  1247.65264031 ...  -99.48735969\n",
            "   -74.88818878  -52.01971939]\n",
            " [1247.78151786 1247.65264031 1251.38202806 ...  -89.58797194\n",
            "   -63.43778061  -41.83594388]\n",
            " ...\n",
            " [ -93.19919643  -99.48735969  -89.58797194 ... 1954.8948852\n",
            "  1777.19864796 1723.10262755]\n",
            " [ -69.74696429  -74.88818878  -63.43778061 ... 1777.19864796\n",
            "  1818.48423469 1765.16729592]\n",
            " [ -46.36910714  -52.01971939  -41.83594388 ... 1723.10262755\n",
            "  1765.16729592 1884.69239796]]\n",
            "==============\n",
            "==============\n",
            "[10303 10302 10301 ...     2     1     0]\n",
            "[ 2.69779693e+06  2.09901394e+06  1.15253034e+06 ... -1.12469402e-09\n",
            " -1.62405535e-09 -1.83782981e-09]\n",
            "[[ 0.00120004 -0.01425239 -0.02140836 ... -0.          0.\n",
            "   0.        ]\n",
            " [ 0.00111036 -0.01422848 -0.02133271 ... -0.2112028  -0.55914743\n",
            "   0.0854188 ]\n",
            " [ 0.0010335  -0.01426387 -0.02131424 ... -0.37202131  0.29703449\n",
            "  -0.38803066]\n",
            " ...\n",
            " [ 0.00703663  0.00953378 -0.01208137 ...  0.00147685 -0.00265339\n",
            "  -0.00754969]\n",
            " [ 0.00663064  0.00863703 -0.01187085 ...  0.0138272   0.00802554\n",
            "  -0.004369  ]\n",
            " [ 0.00798     0.00907498 -0.01282129 ... -0.00622724  0.00610338\n",
            "   0.00715884]]\n",
            "==============\n"
          ],
          "name": "stdout"
        }
      ]
    },
    {
      "cell_type": "markdown",
      "metadata": {
        "id": "hlAWncFVAnGS"
      },
      "source": [
        "## **Projection**"
      ]
    },
    {
      "cell_type": "code",
      "metadata": {
        "id": "vsoyohnD9hHX",
        "colab": {
          "base_uri": "https://localhost:8080/"
        },
        "outputId": "6291d91b-06e0-47a6-fd5d-0d41c6917da8"
      },
      "source": [
        "Projected_Trains, Projected_Tests = listingProjectedArrays(Alpha, EigenValues, EigenVectors, X_train, X_test)"
      ],
      "execution_count": 12,
      "outputs": [
        {
          "output_type": "stream",
          "text": [
            "0.8\n",
            "0.85\n",
            "0.9\n",
            "0.95\n"
          ],
          "name": "stdout"
        }
      ]
    },
    {
      "cell_type": "markdown",
      "metadata": {
        "id": "usE1pokfAr8l"
      },
      "source": [
        "## **KNN & Alpha values**"
      ]
    },
    {
      "cell_type": "code",
      "metadata": {
        "id": "9llcPlJaV5NM"
      },
      "source": [
        "Alpha = [0.8,0.85,0.9,0.95]\n",
        "K_Neighbours = [1,3,5,7]  # Number of Neighbours\n"
      ],
      "execution_count": 13,
      "outputs": []
    },
    {
      "cell_type": "markdown",
      "metadata": {
        "id": "20Q-OXhgA1OK"
      },
      "source": [
        "## **KNN Classfication & Results**"
      ]
    },
    {
      "cell_type": "code",
      "metadata": {
        "id": "EmVbEaMkW3rt",
        "colab": {
          "base_uri": "https://localhost:8080/",
          "height": 548
        },
        "outputId": "e96efa5f-ce78-4350-de44-c14086abf62e"
      },
      "source": [
        "New_Train = y_train.flatten()                                                    # Change Labels Train List To 1D \n",
        "New_Test = y_test.flatten()                                                      # Change Labels Test List To 1D   \n",
        "                                                 \n",
        "def Results ():\n",
        "  # Get Accuracy For Each Alpha per Each Neighbour 4 * 4 \n",
        "  for i in range(4):\n",
        "    Array = []         # Accuracy List\n",
        "    Accuracy_Value = k_Neigh(K_Neighbours[i], Projected_Trains[0], Projected_Tests[0], New_Test, 0.8, New_Train)\n",
        "    Array.append(Accuracy_Value)\n",
        "    Accuracy_Value = k_Neigh(K_Neighbours[i], Projected_Trains[1], Projected_Tests[1], New_Test, 0.85, New_Train)\n",
        "    Array.append(Accuracy_Value)\n",
        "    Accuracy_Value = k_Neigh(K_Neighbours[i], Projected_Trains[2], Projected_Tests[2], New_Test, 0.9, New_Train)\n",
        "    Array.append(Accuracy_Value)\n",
        "    Accuracy_Value = k_Neigh(K_Neighbours[i], Projected_Trains[3], Projected_Tests[3], New_Test, 0.95, New_Train)\n",
        "    Array.append(Accuracy_Value)\n",
        "    plt.plot([0.8,0.85,0.9,0.95],Array)                                         # Plot Alpha Values To Accuracy Values\n",
        "    \n",
        "  plt.xlabel(\"Alpha\")\n",
        "  plt.ylabel(\"Accuracy\")\n",
        "  plt.show()\n",
        "\n",
        "Results()"
      ],
      "execution_count": 14,
      "outputs": [
        {
          "output_type": "stream",
          "text": [
            "For Alpha =  0.8 \t With  1  Neighbours \t The Accuracy Will be =  0.9583333333333334\n",
            "For Alpha =  0.85 \t With  1  Neighbours \t The Accuracy Will be =  0.975\n",
            "For Alpha =  0.9 \t With  1  Neighbours \t The Accuracy Will be =  0.975\n",
            "For Alpha =  0.95 \t With  1  Neighbours \t The Accuracy Will be =  0.9666666666666667\n",
            "For Alpha =  0.8 \t With  3  Neighbours \t The Accuracy Will be =  0.8583333333333333\n",
            "For Alpha =  0.85 \t With  3  Neighbours \t The Accuracy Will be =  0.875\n",
            "For Alpha =  0.9 \t With  3  Neighbours \t The Accuracy Will be =  0.8666666666666667\n",
            "For Alpha =  0.95 \t With  3  Neighbours \t The Accuracy Will be =  0.875\n",
            "For Alpha =  0.8 \t With  5  Neighbours \t The Accuracy Will be =  0.8083333333333333\n",
            "For Alpha =  0.85 \t With  5  Neighbours \t The Accuracy Will be =  0.8\n",
            "For Alpha =  0.9 \t With  5  Neighbours \t The Accuracy Will be =  0.8083333333333333\n",
            "For Alpha =  0.95 \t With  5  Neighbours \t The Accuracy Will be =  0.8\n",
            "For Alpha =  0.8 \t With  7  Neighbours \t The Accuracy Will be =  0.7083333333333334\n",
            "For Alpha =  0.85 \t With  7  Neighbours \t The Accuracy Will be =  0.7166666666666667\n",
            "For Alpha =  0.9 \t With  7  Neighbours \t The Accuracy Will be =  0.7166666666666667\n",
            "For Alpha =  0.95 \t With  7  Neighbours \t The Accuracy Will be =  0.7083333333333334\n"
          ],
          "name": "stdout"
        },
        {
          "output_type": "display_data",
          "data": {
            "image/png": "[encoded data removed]",
            "text/plain": [
              "<Figure size 432x288 with 1 Axes>"
            ]
          },
          "metadata": {
            "tags": [],
            "needs_background": "light"
          }
        }
      ]
    }
  ]
}